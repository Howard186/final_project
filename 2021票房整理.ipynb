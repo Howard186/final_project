{
 "cells": [
  {
   "cell_type": "markdown",
   "id": "70f4f27c-8fcc-48c9-be7b-a0fd7e789bc8",
   "metadata": {},
   "source": [
    "### Import 套件"
   ]
  },
  {
   "cell_type": "code",
   "execution_count": 1,
   "id": "3a91671a-952d-4918-95f2-6e9789d2679c",
   "metadata": {},
   "outputs": [],
   "source": [
    "import json\n",
    "import pandas as pd"
   ]
  },
  {
   "cell_type": "markdown",
   "id": "1a9afcc4-42cf-4f3b-b34a-a80a7d153d4c",
   "metadata": {},
   "source": [
    "### 導入資料並整理成dataframe"
   ]
  },
  {
   "cell_type": "code",
   "execution_count": null,
   "id": "bc94acf3-b17d-456a-b0bd-6c2ef37f91a8",
   "metadata": {},
   "outputs": [],
   "source": [
    "tw_df = pd.DataFrame()\n",
    "us_df = pd.DataFrame()\n",
    "total_df = pd.DataFrame()\n",
    "for i in [\"20_1228-0103\",\"0104-0110\",\"0111-0117\",\"0118-0124\",\"0125-0131\",\"0201-0207\",\"0208-0214\",\"0215-0221\",\"0222-0228\",\"0301-0307\",\"0308-0314\",\"0315-0321\",\"0322-0328\",\"0329-0404\",\"0405-0411\",\"0412-0418\",\"0419-0425\",\"0426-0502\",\"0503-0509\",\"0510-0516\",\"0517-0520\",\"0712-0725\",\"0726-0801\",\"0802-0808\",\"0809-0815\",\"0816-0822\",\"0823-0829\",\"0830-0905\",\"0906-0912\",\"0913-0919\",\"0920-0926\",\"0927-1003\",\"1004-1010\",\"1011-1017\",\"1018-1024\",\"1025-1031\",\"1101-1107\",\"1108-1114\",\"1115-1121\",\"1122-1128\",\"1129-1205\",\"1206-1212\",\"1213-1219\",\"1220-1226\",\"1220-1226\", \"1227-0102\",\"22_0103-0109\"]:\n",
    "    taiwan_box = []\n",
    "    us_box = []\n",
    "    total_box = []\n",
    "    with open(\"./boxoffice_json/\" + i + \".json\", \"r\",encoding=\"utf-8\") as file:\n",
    "        box_office = json.load(file)\n",
    "    for j in range(len((box_office[\"list\"]))):\n",
    "        if box_office[\"list\"][j][\"country\"] == \"中華民國\" :\n",
    "            taiwan_box.append(box_office[\"list\"][j])\n",
    "        elif box_office[\"list\"][j][\"country\"] == \"美國\" :\n",
    "            us_box.append(box_office[\"list\"][j])\n",
    "        else:\n",
    "            total_box.append(box_office[\"list\"][j])\n",
    "    total = pd.DataFrame(total_box)\n",
    "    tw = pd.DataFrame(taiwan_box)\n",
    "    us = pd.DataFrame(us_box)\n",
    "    tw[\"week\"] = i\n",
    "    us[\"week\"] = i\n",
    "    total[\"week\"] = i \n",
    "    tw[\"week_amount\"] = tw[\"amounts\"].sum()\n",
    "    us[\"week_amount\"] = us[\"amounts\"].sum()\n",
    "    total[\"week_amount\"] = us[\"amounts\"].sum()\n",
    "    tw_df = tw_df.append(tw).reset_index().drop(\"index\",axis=1)\n",
    "    us_df = us_df.append(us).reset_index().drop(\"index\",axis=1)\n",
    "    total_df = total_df.append(total).reset_index().drop(\"index\",axis=1)"
   ]
  },
  {
   "cell_type": "markdown",
   "id": "793fb1b7-aae7-47ed-9773-be80c816eae3",
   "metadata": {},
   "source": [
    "### 分項總票房整理匯出"
   ]
  },
  {
   "cell_type": "code",
   "execution_count": null,
   "id": "70a830d4-e571-4837-9be0-93945a97d696",
   "metadata": {},
   "outputs": [],
   "source": [
    "total_df.to_csv(\"2021台灣票房.csv\", encoding='utf_8_sig')\n",
    "us_df.to_csv(\"2021美國片票房.csv\", encoding='utf_8_sig')\n",
    "tw_df.to_csv(\"2021國片票房.csv\", encoding='utf_8_sig')"
   ]
  },
  {
   "cell_type": "markdown",
   "id": "9db8927a-1c25-49e2-a5de-b350e5079137",
   "metadata": {},
   "source": [
    "### 2021台灣國片逐週票房整理匯出"
   ]
  },
  {
   "cell_type": "code",
   "execution_count": null,
   "id": "6192c324-e4c8-447e-b3f7-c42d5f390596",
   "metadata": {},
   "outputs": [],
   "source": [
    "tw_df[(tw_df[\"name\"]== \"迷失安狄\")].reset_index().drop(\"index\",axis=1).to_csv(\"迷失安狄.csv\", encoding='utf_8_sig')\n",
    "tw_df[(tw_df[\"name\"]== \"叱咤風雲\")].reset_index().drop(\"index\",axis=1).to_csv(\"叱咤風雲.csv\", encoding='utf_8_sig')\n",
    "tw_df[(tw_df[\"name\"]== \"哭悲\")].reset_index().drop(\"index\",axis=1).to_csv(\"哭悲.csv\", encoding='utf_8_sig')\n",
    "tw_df[(tw_df[\"name\"]== \"緝魂\")].reset_index().drop(\"index\",axis=1).to_csv(\"緝魂.csv\", encoding='utf_8_sig')\n",
    "tw_df[(tw_df[\"name\"]== \"角頭－浪流連\")].reset_index().drop(\"index\",axis=1).to_csv(\"角頭－浪流連.csv\", encoding='utf_8_sig')\n",
    "tw_df[(tw_df[\"name\"]== \"我沒有談的那場戀愛\")].reset_index().drop(\"index\",axis=1).to_csv(\"我沒有談的那場戀愛.csv\", encoding='utf_8_sig')\n",
    "tw_df[(tw_df[\"name\"]== \"跟你老婆去旅行\")].reset_index().drop(\"index\",axis=1).to_csv(\"跟你老婆去旅行.csv\", encoding='utf_8_sig')\n",
    "tw_df[(tw_df[\"name\"]== \"複身犯\")].reset_index().drop(\"index\",axis=1).to_csv(\"複身犯.csv\", encoding='utf_8_sig')\n",
    "tw_df[(tw_df[\"name\"]== \"當男人戀愛時\")].reset_index().drop(\"index\",axis=1).to_csv(\"當男人戀愛時.csv\", encoding='utf_8_sig')\n",
    "tw_df[(tw_df[\"name\"]== \"聽見歌 再唱\")].reset_index().drop(\"index\",axis=1).to_csv(\"聽見歌 再唱.csv\", encoding='utf_8_sig')\n",
    "tw_df[(tw_df[\"name\"]== \"轉彎之後......\")].reset_index().drop(\"index\",axis=1).to_csv(\"轉彎之後.......csv\", encoding='utf_8_sig')\n",
    "tw_df[(tw_df[\"name\"]== \"期末考\")].reset_index().drop(\"index\",axis=1).to_csv(\"期末考.csv\", encoding='utf_8_sig')\n",
    "tw_df[(tw_df[\"name\"]== \"邪佞\")].reset_index().drop(\"index\",axis=1).to_csv(\"邪佞.csv\", encoding='utf_8_sig')\n",
    "tw_df[(tw_df[\"name\"]== \"靈語\")].reset_index().drop(\"index\",axis=1).to_csv(\"靈語.csv\", encoding='utf_8_sig')\n",
    "tw_df[(tw_df[\"name\"]== \"瀑布\")].reset_index().drop(\"index\",axis=1).to_csv(\"瀑布.csv\", encoding='utf_8_sig')\n",
    "tw_df[(tw_df[\"name\"]== \"青春弒戀\")].reset_index().drop(\"index\",axis=1).to_csv(\"青春弒戀.csv\", encoding='utf_8_sig')\n",
    "tw_df[(tw_df[\"name\"]== \"金錢男孩MONEYBOYS\")].reset_index().drop(\"index\",axis=1).to_csv(\"金錢男孩MONEYBOYS.csv\", encoding='utf_8_sig')\n",
    "tw_df[(tw_df[\"name\"]== \"月老\")].reset_index().drop(\"index\",axis=1).to_csv(\"月老.csv\", encoding='utf_8_sig')\n",
    "tw_df[(tw_df[\"name\"]== \"美國女孩\")].reset_index().drop(\"index\",axis=1).to_csv(\"美國女孩.csv\", encoding='utf_8_sig')\n",
    "tw_df[(tw_df[\"name\"]== \"詭祭\")].reset_index().drop(\"index\",axis=1).to_csv(\"詭祭.csv\", encoding='utf_8_sig')"
   ]
  },
  {
   "cell_type": "code",
   "execution_count": null,
   "id": "c8cb7847-9667-4fc3-9ca9-22f94af80a91",
   "metadata": {},
   "outputs": [],
   "source": [
    "tw_df[(tw_df[\"name\"]== \"詭扯\")].reset_index().drop(\"index\",axis=1).to_csv(\"詭扯.csv\", encoding='utf_8_sig')"
   ]
  },
  {
   "cell_type": "code",
   "execution_count": null,
   "id": "c6ab1115-21a1-4d17-9156-f5fcbb5e05e5",
   "metadata": {},
   "outputs": [],
   "source": []
  }
 ],
 "metadata": {
  "kernelspec": {
   "display_name": "Python 3",
   "language": "python",
   "name": "python3"
  },
  "language_info": {
   "codemirror_mode": {
    "name": "ipython",
    "version": 3
   },
   "file_extension": ".py",
   "mimetype": "text/x-python",
   "name": "python",
   "nbconvert_exporter": "python",
   "pygments_lexer": "ipython3",
   "version": "3.7.8"
  }
 },
 "nbformat": 4,
 "nbformat_minor": 5
}
